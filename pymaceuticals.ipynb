{
 "cells": [
  {
   "cell_type": "markdown",
   "metadata": {},
   "source": [
    "## Observations and Insights "
   ]
  },
  {
   "cell_type": "markdown",
   "metadata": {},
   "source": [
    "The three observations that can be made from the data, as summarised in the tables and graphs below, are:\n",
    "1. Mice on Capomulin or Ramicane treatment regime had a smaller final tumor volume than mice on Infubinol or Ceftamin treatment regime.\n",
    "2. There are roughly equal number of female and male mice in this dataset.\n",
    "3. In the group of mice treated with the Capomulin regimen, average tumor volume was strongly negativelly correlated with mouse weight."
   ]
  },
  {
   "cell_type": "code",
   "execution_count": 1,
   "metadata": {},
   "outputs": [
    {
     "data": {
      "text/html": [
       "<div>\n",
       "<style scoped>\n",
       "    .dataframe tbody tr th:only-of-type {\n",
       "        vertical-align: middle;\n",
       "    }\n",
       "\n",
       "    .dataframe tbody tr th {\n",
       "        vertical-align: top;\n",
       "    }\n",
       "\n",
       "    .dataframe thead th {\n",
       "        text-align: right;\n",
       "    }\n",
       "</style>\n",
       "<table border=\"1\" class=\"dataframe\">\n",
       "  <thead>\n",
       "    <tr style=\"text-align: right;\">\n",
       "      <th></th>\n",
       "      <th>Mouse ID</th>\n",
       "      <th>Drug Regimen</th>\n",
       "      <th>Sex</th>\n",
       "      <th>Age_months</th>\n",
       "      <th>Weight (g)</th>\n",
       "      <th>Timepoint</th>\n",
       "      <th>Tumor Volume (mm3)</th>\n",
       "      <th>Metastatic Sites</th>\n",
       "    </tr>\n",
       "  </thead>\n",
       "  <tbody>\n",
       "    <tr>\n",
       "      <th>0</th>\n",
       "      <td>k403</td>\n",
       "      <td>Ramicane</td>\n",
       "      <td>Male</td>\n",
       "      <td>21</td>\n",
       "      <td>16</td>\n",
       "      <td>0</td>\n",
       "      <td>45.000000</td>\n",
       "      <td>0</td>\n",
       "    </tr>\n",
       "    <tr>\n",
       "      <th>1</th>\n",
       "      <td>k403</td>\n",
       "      <td>Ramicane</td>\n",
       "      <td>Male</td>\n",
       "      <td>21</td>\n",
       "      <td>16</td>\n",
       "      <td>5</td>\n",
       "      <td>38.825898</td>\n",
       "      <td>0</td>\n",
       "    </tr>\n",
       "    <tr>\n",
       "      <th>2</th>\n",
       "      <td>k403</td>\n",
       "      <td>Ramicane</td>\n",
       "      <td>Male</td>\n",
       "      <td>21</td>\n",
       "      <td>16</td>\n",
       "      <td>10</td>\n",
       "      <td>35.014271</td>\n",
       "      <td>1</td>\n",
       "    </tr>\n",
       "    <tr>\n",
       "      <th>3</th>\n",
       "      <td>k403</td>\n",
       "      <td>Ramicane</td>\n",
       "      <td>Male</td>\n",
       "      <td>21</td>\n",
       "      <td>16</td>\n",
       "      <td>15</td>\n",
       "      <td>34.223992</td>\n",
       "      <td>1</td>\n",
       "    </tr>\n",
       "    <tr>\n",
       "      <th>4</th>\n",
       "      <td>k403</td>\n",
       "      <td>Ramicane</td>\n",
       "      <td>Male</td>\n",
       "      <td>21</td>\n",
       "      <td>16</td>\n",
       "      <td>20</td>\n",
       "      <td>32.997729</td>\n",
       "      <td>1</td>\n",
       "    </tr>\n",
       "  </tbody>\n",
       "</table>\n",
       "</div>"
      ],
      "text/plain": [
       "  Mouse ID Drug Regimen   Sex  Age_months  Weight (g)  Timepoint  \\\n",
       "0     k403     Ramicane  Male          21          16          0   \n",
       "1     k403     Ramicane  Male          21          16          5   \n",
       "2     k403     Ramicane  Male          21          16         10   \n",
       "3     k403     Ramicane  Male          21          16         15   \n",
       "4     k403     Ramicane  Male          21          16         20   \n",
       "\n",
       "   Tumor Volume (mm3)  Metastatic Sites  \n",
       "0           45.000000                 0  \n",
       "1           38.825898                 0  \n",
       "2           35.014271                 1  \n",
       "3           34.223992                 1  \n",
       "4           32.997729                 1  "
      ]
     },
     "execution_count": 1,
     "metadata": {},
     "output_type": "execute_result"
    }
   ],
   "source": [
    "# Dependencies and Setup\n",
    "import matplotlib.pyplot as plt\n",
    "import pandas as pd\n",
    "import scipy.stats as sts\n",
    "\n",
    "# Study data files\n",
    "mouse_metadata_path = \"data/Mouse_metadata.csv\"\n",
    "study_results_path = \"data/Study_results.csv\"\n",
    "\n",
    "# Read the mouse data and the study results\n",
    "mouse_metadata = pd.read_csv(mouse_metadata_path)\n",
    "study_results = pd.read_csv(study_results_path)\n",
    "\n",
    "# Combine the data into a single dataset\n",
    "mouse_study = pd.merge(mouse_metadata, study_results, on = \"Mouse ID\", how = \"outer\")\n",
    "\n",
    "# Display the data table for preview\n",
    "mouse_study.head()"
   ]
  },
  {
   "cell_type": "code",
   "execution_count": 2,
   "metadata": {},
   "outputs": [
    {
     "name": "stdout",
     "output_type": "stream",
     "text": [
      "There are 249 mice in this study.\n"
     ]
    }
   ],
   "source": [
    "# Checking the number of mice.\n",
    "n_mice=len(mouse_study[\"Mouse ID\"].unique())\n",
    "print(f\"There are {n_mice} mice in this study.\")"
   ]
  },
  {
   "cell_type": "code",
   "execution_count": 3,
   "metadata": {},
   "outputs": [],
   "source": [
    "# Getting the duplicate mice by ID number that shows up for Mouse ID and Timepoint. \n",
    "mouse_study[\"ID_timepoint\"] = mouse_study[\"Mouse ID\"] + \"_\" + mouse_study[\"Timepoint\"].astype(str)\n",
    "mouse_duplicate = pd.DataFrame(mouse_study[\"ID_timepoint\"].value_counts()>1)\n"
   ]
  },
  {
   "cell_type": "code",
   "execution_count": 4,
   "metadata": {},
   "outputs": [
    {
     "data": {
      "text/html": [
       "<div>\n",
       "<style scoped>\n",
       "    .dataframe tbody tr th:only-of-type {\n",
       "        vertical-align: middle;\n",
       "    }\n",
       "\n",
       "    .dataframe tbody tr th {\n",
       "        vertical-align: top;\n",
       "    }\n",
       "\n",
       "    .dataframe thead th {\n",
       "        text-align: right;\n",
       "    }\n",
       "</style>\n",
       "<table border=\"1\" class=\"dataframe\">\n",
       "  <thead>\n",
       "    <tr style=\"text-align: right;\">\n",
       "      <th></th>\n",
       "      <th>Mouse ID</th>\n",
       "      <th>Drug Regimen</th>\n",
       "      <th>Sex</th>\n",
       "      <th>Age_months</th>\n",
       "      <th>Weight (g)</th>\n",
       "      <th>Timepoint</th>\n",
       "      <th>Tumor Volume (mm3)</th>\n",
       "      <th>Metastatic Sites</th>\n",
       "      <th>ID_timepoint</th>\n",
       "    </tr>\n",
       "  </thead>\n",
       "  <tbody>\n",
       "    <tr>\n",
       "      <th>916</th>\n",
       "      <td>g989</td>\n",
       "      <td>Propriva</td>\n",
       "      <td>Female</td>\n",
       "      <td>21</td>\n",
       "      <td>26</td>\n",
       "      <td>20</td>\n",
       "      <td>55.326122</td>\n",
       "      <td>1</td>\n",
       "      <td>g989_20</td>\n",
       "    </tr>\n",
       "    <tr>\n",
       "      <th>917</th>\n",
       "      <td>g989</td>\n",
       "      <td>Propriva</td>\n",
       "      <td>Female</td>\n",
       "      <td>21</td>\n",
       "      <td>26</td>\n",
       "      <td>20</td>\n",
       "      <td>54.657650</td>\n",
       "      <td>1</td>\n",
       "      <td>g989_20</td>\n",
       "    </tr>\n",
       "    <tr>\n",
       "      <th>908</th>\n",
       "      <td>g989</td>\n",
       "      <td>Propriva</td>\n",
       "      <td>Female</td>\n",
       "      <td>21</td>\n",
       "      <td>26</td>\n",
       "      <td>0</td>\n",
       "      <td>45.000000</td>\n",
       "      <td>0</td>\n",
       "      <td>g989_0</td>\n",
       "    </tr>\n",
       "    <tr>\n",
       "      <th>909</th>\n",
       "      <td>g989</td>\n",
       "      <td>Propriva</td>\n",
       "      <td>Female</td>\n",
       "      <td>21</td>\n",
       "      <td>26</td>\n",
       "      <td>0</td>\n",
       "      <td>45.000000</td>\n",
       "      <td>0</td>\n",
       "      <td>g989_0</td>\n",
       "    </tr>\n",
       "    <tr>\n",
       "      <th>912</th>\n",
       "      <td>g989</td>\n",
       "      <td>Propriva</td>\n",
       "      <td>Female</td>\n",
       "      <td>21</td>\n",
       "      <td>26</td>\n",
       "      <td>10</td>\n",
       "      <td>51.745156</td>\n",
       "      <td>0</td>\n",
       "      <td>g989_10</td>\n",
       "    </tr>\n",
       "  </tbody>\n",
       "</table>\n",
       "</div>"
      ],
      "text/plain": [
       "    Mouse ID Drug Regimen     Sex  Age_months  Weight (g)  Timepoint  \\\n",
       "916     g989     Propriva  Female          21          26         20   \n",
       "917     g989     Propriva  Female          21          26         20   \n",
       "908     g989     Propriva  Female          21          26          0   \n",
       "909     g989     Propriva  Female          21          26          0   \n",
       "912     g989     Propriva  Female          21          26         10   \n",
       "\n",
       "     Tumor Volume (mm3)  Metastatic Sites ID_timepoint  \n",
       "916           55.326122                 1      g989_20  \n",
       "917           54.657650                 1      g989_20  \n",
       "908           45.000000                 0       g989_0  \n",
       "909           45.000000                 0       g989_0  \n",
       "912           51.745156                 0      g989_10  "
      ]
     },
     "execution_count": 4,
     "metadata": {},
     "output_type": "execute_result"
    }
   ],
   "source": [
    "# Optional: Get all the data for the duplicate mouse ID. \n",
    "mouse_duplicate_alldata = pd.DataFrame()\n",
    "for i in mouse_duplicate.index:\n",
    "    if mouse_duplicate.loc[i,\"ID_timepoint\"]==True:\n",
    "        mouse_duplicate_alldata = mouse_duplicate_alldata.append(\\\n",
    "                                  mouse_study.loc[mouse_study[\"ID_timepoint\"]==i])\n",
    "mouse_duplicate_alldata.head()"
   ]
  },
  {
   "cell_type": "code",
   "execution_count": 5,
   "metadata": {},
   "outputs": [],
   "source": [
    "# Create a clean DataFrame by dropping the duplicate mouse by its ID.\n",
    "duplicate_mouse = mouse_duplicate_alldata[\"Mouse ID\"].unique()\n",
    "for i in duplicate_mouse:\n",
    "    mouse_study = mouse_study.drop(mouse_study.index[mouse_study[\"Mouse ID\"]==i])\n"
   ]
  },
  {
   "cell_type": "code",
   "execution_count": 6,
   "metadata": {},
   "outputs": [
    {
     "name": "stdout",
     "output_type": "stream",
     "text": [
      "There are 248 mice in this study, after removal of mouse with duplicate data.\n"
     ]
    }
   ],
   "source": [
    "# Checking the number of mice in the clean DataFrame.\n",
    "n_mice = len(mouse_study[\"Mouse ID\"].unique())\n",
    "print(f\"There are {n_mice} mice in this study, after removal of mouse with duplicate data.\")"
   ]
  },
  {
   "cell_type": "markdown",
   "metadata": {},
   "source": [
    "## Summary Statistics"
   ]
  },
  {
   "cell_type": "code",
   "execution_count": 7,
   "metadata": {},
   "outputs": [
    {
     "data": {
      "text/html": [
       "<div>\n",
       "<style scoped>\n",
       "    .dataframe tbody tr th:only-of-type {\n",
       "        vertical-align: middle;\n",
       "    }\n",
       "\n",
       "    .dataframe tbody tr th {\n",
       "        vertical-align: top;\n",
       "    }\n",
       "\n",
       "    .dataframe thead th {\n",
       "        text-align: right;\n",
       "    }\n",
       "</style>\n",
       "<table border=\"1\" class=\"dataframe\">\n",
       "  <thead>\n",
       "    <tr style=\"text-align: right;\">\n",
       "      <th></th>\n",
       "      <th>count</th>\n",
       "      <th>mean</th>\n",
       "      <th>median</th>\n",
       "      <th>variance</th>\n",
       "      <th>standard deviation</th>\n",
       "      <th>SEM</th>\n",
       "    </tr>\n",
       "    <tr>\n",
       "      <th>Drug Regimen</th>\n",
       "      <th></th>\n",
       "      <th></th>\n",
       "      <th></th>\n",
       "      <th></th>\n",
       "      <th></th>\n",
       "      <th></th>\n",
       "    </tr>\n",
       "  </thead>\n",
       "  <tbody>\n",
       "    <tr>\n",
       "      <th>Capomulin</th>\n",
       "      <td>230</td>\n",
       "      <td>40.675741</td>\n",
       "      <td>41.557809</td>\n",
       "      <td>24.947764</td>\n",
       "      <td>4.994774</td>\n",
       "      <td>0.329346</td>\n",
       "    </tr>\n",
       "    <tr>\n",
       "      <th>Ceftamin</th>\n",
       "      <td>178</td>\n",
       "      <td>52.591172</td>\n",
       "      <td>51.776157</td>\n",
       "      <td>39.290177</td>\n",
       "      <td>6.268188</td>\n",
       "      <td>0.469821</td>\n",
       "    </tr>\n",
       "    <tr>\n",
       "      <th>Infubinol</th>\n",
       "      <td>178</td>\n",
       "      <td>52.884795</td>\n",
       "      <td>51.820584</td>\n",
       "      <td>43.128684</td>\n",
       "      <td>6.567243</td>\n",
       "      <td>0.492236</td>\n",
       "    </tr>\n",
       "    <tr>\n",
       "      <th>Ketapril</th>\n",
       "      <td>188</td>\n",
       "      <td>55.235638</td>\n",
       "      <td>53.698743</td>\n",
       "      <td>68.553577</td>\n",
       "      <td>8.279709</td>\n",
       "      <td>0.603860</td>\n",
       "    </tr>\n",
       "    <tr>\n",
       "      <th>Naftisol</th>\n",
       "      <td>186</td>\n",
       "      <td>54.331565</td>\n",
       "      <td>52.509285</td>\n",
       "      <td>66.173479</td>\n",
       "      <td>8.134708</td>\n",
       "      <td>0.596466</td>\n",
       "    </tr>\n",
       "    <tr>\n",
       "      <th>Placebo</th>\n",
       "      <td>181</td>\n",
       "      <td>54.033581</td>\n",
       "      <td>52.288934</td>\n",
       "      <td>61.168083</td>\n",
       "      <td>7.821003</td>\n",
       "      <td>0.581331</td>\n",
       "    </tr>\n",
       "    <tr>\n",
       "      <th>Propriva</th>\n",
       "      <td>148</td>\n",
       "      <td>52.320930</td>\n",
       "      <td>50.446266</td>\n",
       "      <td>43.852013</td>\n",
       "      <td>6.622085</td>\n",
       "      <td>0.544332</td>\n",
       "    </tr>\n",
       "    <tr>\n",
       "      <th>Ramicane</th>\n",
       "      <td>228</td>\n",
       "      <td>40.216745</td>\n",
       "      <td>40.673236</td>\n",
       "      <td>23.486704</td>\n",
       "      <td>4.846308</td>\n",
       "      <td>0.320955</td>\n",
       "    </tr>\n",
       "    <tr>\n",
       "      <th>Stelasyn</th>\n",
       "      <td>181</td>\n",
       "      <td>54.233149</td>\n",
       "      <td>52.431737</td>\n",
       "      <td>59.450562</td>\n",
       "      <td>7.710419</td>\n",
       "      <td>0.573111</td>\n",
       "    </tr>\n",
       "    <tr>\n",
       "      <th>Zoniferol</th>\n",
       "      <td>182</td>\n",
       "      <td>53.236507</td>\n",
       "      <td>51.818479</td>\n",
       "      <td>48.533355</td>\n",
       "      <td>6.966589</td>\n",
       "      <td>0.516398</td>\n",
       "    </tr>\n",
       "  </tbody>\n",
       "</table>\n",
       "</div>"
      ],
      "text/plain": [
       "              count       mean     median   variance  standard deviation  \\\n",
       "Drug Regimen                                                               \n",
       "Capomulin       230  40.675741  41.557809  24.947764            4.994774   \n",
       "Ceftamin        178  52.591172  51.776157  39.290177            6.268188   \n",
       "Infubinol       178  52.884795  51.820584  43.128684            6.567243   \n",
       "Ketapril        188  55.235638  53.698743  68.553577            8.279709   \n",
       "Naftisol        186  54.331565  52.509285  66.173479            8.134708   \n",
       "Placebo         181  54.033581  52.288934  61.168083            7.821003   \n",
       "Propriva        148  52.320930  50.446266  43.852013            6.622085   \n",
       "Ramicane        228  40.216745  40.673236  23.486704            4.846308   \n",
       "Stelasyn        181  54.233149  52.431737  59.450562            7.710419   \n",
       "Zoniferol       182  53.236507  51.818479  48.533355            6.966589   \n",
       "\n",
       "                   SEM  \n",
       "Drug Regimen            \n",
       "Capomulin     0.329346  \n",
       "Ceftamin      0.469821  \n",
       "Infubinol     0.492236  \n",
       "Ketapril      0.603860  \n",
       "Naftisol      0.596466  \n",
       "Placebo       0.581331  \n",
       "Propriva      0.544332  \n",
       "Ramicane      0.320955  \n",
       "Stelasyn      0.573111  \n",
       "Zoniferol     0.516398  "
      ]
     },
     "execution_count": 7,
     "metadata": {},
     "output_type": "execute_result"
    }
   ],
   "source": [
    "# Generate a summary statistics table of mean, median, variance, standard deviation, and SEM of the tumor volume for each regimen\n",
    "drug_regimen_group = mouse_study.groupby([\"Drug Regimen\"])\n",
    "count = drug_regimen_group[[\"Tumor Volume (mm3)\"]].count()\n",
    "count = count.rename(columns = {\"Tumor Volume (mm3)\":\"count\"})\n",
    "mean = drug_regimen_group[[\"Tumor Volume (mm3)\"]].mean()\n",
    "mean = mean.rename(columns = {\"Tumor Volume (mm3)\":\"mean\"})\n",
    "median = drug_regimen_group[[\"Tumor Volume (mm3)\"]].median()\n",
    "median = median.rename(columns = {\"Tumor Volume (mm3)\":\"median\"})\n",
    "variance = drug_regimen_group[[\"Tumor Volume (mm3)\"]].var()\n",
    "variance = variance.rename(columns = {\"Tumor Volume (mm3)\":\"variance\"})\n",
    "stdev = drug_regimen_group[[\"Tumor Volume (mm3)\"]].std()\n",
    "stdev = stdev.rename(columns = {\"Tumor Volume (mm3)\":\"standard deviation\"})\n",
    "sem = drug_regimen_group[[\"Tumor Volume (mm3)\"]].sem()\n",
    "sem = sem.rename(columns = {\"Tumor Volume (mm3)\":\"SEM\"})\n",
    "\n",
    "summary_drug_regimen = pd.concat([count,mean,median,variance,stdev,sem], axis=1)\n",
    "summary_drug_regimen\n",
    "\n",
    "# This method is the most straighforward, creating multiple series and putting them all together at the end."
   ]
  },
  {
   "cell_type": "code",
   "execution_count": 9,
   "metadata": {},
   "outputs": [
    {
     "data": {
      "text/html": [
       "<div>\n",
       "<style scoped>\n",
       "    .dataframe tbody tr th:only-of-type {\n",
       "        vertical-align: middle;\n",
       "    }\n",
       "\n",
       "    .dataframe tbody tr th {\n",
       "        vertical-align: top;\n",
       "    }\n",
       "\n",
       "    .dataframe thead th {\n",
       "        text-align: right;\n",
       "    }\n",
       "</style>\n",
       "<table border=\"1\" class=\"dataframe\">\n",
       "  <thead>\n",
       "    <tr style=\"text-align: right;\">\n",
       "      <th></th>\n",
       "      <th>count</th>\n",
       "      <th>mean</th>\n",
       "      <th>median</th>\n",
       "      <th>var</th>\n",
       "      <th>std</th>\n",
       "      <th>sem</th>\n",
       "    </tr>\n",
       "    <tr>\n",
       "      <th>Drug Regimen</th>\n",
       "      <th></th>\n",
       "      <th></th>\n",
       "      <th></th>\n",
       "      <th></th>\n",
       "      <th></th>\n",
       "      <th></th>\n",
       "    </tr>\n",
       "  </thead>\n",
       "  <tbody>\n",
       "    <tr>\n",
       "      <th>Capomulin</th>\n",
       "      <td>230</td>\n",
       "      <td>40.675741</td>\n",
       "      <td>41.557809</td>\n",
       "      <td>24.947764</td>\n",
       "      <td>4.994774</td>\n",
       "      <td>0.329346</td>\n",
       "    </tr>\n",
       "    <tr>\n",
       "      <th>Ceftamin</th>\n",
       "      <td>178</td>\n",
       "      <td>52.591172</td>\n",
       "      <td>51.776157</td>\n",
       "      <td>39.290177</td>\n",
       "      <td>6.268188</td>\n",
       "      <td>0.469821</td>\n",
       "    </tr>\n",
       "    <tr>\n",
       "      <th>Infubinol</th>\n",
       "      <td>178</td>\n",
       "      <td>52.884795</td>\n",
       "      <td>51.820584</td>\n",
       "      <td>43.128684</td>\n",
       "      <td>6.567243</td>\n",
       "      <td>0.492236</td>\n",
       "    </tr>\n",
       "    <tr>\n",
       "      <th>Ketapril</th>\n",
       "      <td>188</td>\n",
       "      <td>55.235638</td>\n",
       "      <td>53.698743</td>\n",
       "      <td>68.553577</td>\n",
       "      <td>8.279709</td>\n",
       "      <td>0.603860</td>\n",
       "    </tr>\n",
       "    <tr>\n",
       "      <th>Naftisol</th>\n",
       "      <td>186</td>\n",
       "      <td>54.331565</td>\n",
       "      <td>52.509285</td>\n",
       "      <td>66.173479</td>\n",
       "      <td>8.134708</td>\n",
       "      <td>0.596466</td>\n",
       "    </tr>\n",
       "    <tr>\n",
       "      <th>Placebo</th>\n",
       "      <td>181</td>\n",
       "      <td>54.033581</td>\n",
       "      <td>52.288934</td>\n",
       "      <td>61.168083</td>\n",
       "      <td>7.821003</td>\n",
       "      <td>0.581331</td>\n",
       "    </tr>\n",
       "    <tr>\n",
       "      <th>Propriva</th>\n",
       "      <td>148</td>\n",
       "      <td>52.320930</td>\n",
       "      <td>50.446266</td>\n",
       "      <td>43.852013</td>\n",
       "      <td>6.622085</td>\n",
       "      <td>0.544332</td>\n",
       "    </tr>\n",
       "    <tr>\n",
       "      <th>Ramicane</th>\n",
       "      <td>228</td>\n",
       "      <td>40.216745</td>\n",
       "      <td>40.673236</td>\n",
       "      <td>23.486704</td>\n",
       "      <td>4.846308</td>\n",
       "      <td>0.320955</td>\n",
       "    </tr>\n",
       "    <tr>\n",
       "      <th>Stelasyn</th>\n",
       "      <td>181</td>\n",
       "      <td>54.233149</td>\n",
       "      <td>52.431737</td>\n",
       "      <td>59.450562</td>\n",
       "      <td>7.710419</td>\n",
       "      <td>0.573111</td>\n",
       "    </tr>\n",
       "    <tr>\n",
       "      <th>Zoniferol</th>\n",
       "      <td>182</td>\n",
       "      <td>53.236507</td>\n",
       "      <td>51.818479</td>\n",
       "      <td>48.533355</td>\n",
       "      <td>6.966589</td>\n",
       "      <td>0.516398</td>\n",
       "    </tr>\n",
       "  </tbody>\n",
       "</table>\n",
       "</div>"
      ],
      "text/plain": [
       "              count       mean     median        var       std       sem\n",
       "Drug Regimen                                                            \n",
       "Capomulin       230  40.675741  41.557809  24.947764  4.994774  0.329346\n",
       "Ceftamin        178  52.591172  51.776157  39.290177  6.268188  0.469821\n",
       "Infubinol       178  52.884795  51.820584  43.128684  6.567243  0.492236\n",
       "Ketapril        188  55.235638  53.698743  68.553577  8.279709  0.603860\n",
       "Naftisol        186  54.331565  52.509285  66.173479  8.134708  0.596466\n",
       "Placebo         181  54.033581  52.288934  61.168083  7.821003  0.581331\n",
       "Propriva        148  52.320930  50.446266  43.852013  6.622085  0.544332\n",
       "Ramicane        228  40.216745  40.673236  23.486704  4.846308  0.320955\n",
       "Stelasyn        181  54.233149  52.431737  59.450562  7.710419  0.573111\n",
       "Zoniferol       182  53.236507  51.818479  48.533355  6.966589  0.516398"
      ]
     },
     "execution_count": 9,
     "metadata": {},
     "output_type": "execute_result"
    }
   ],
   "source": [
    "# Generate a summary statistics table of mean, median, variance, standard deviation, and SEM of the tumor volume for each regimen\n",
    "summary_drug_regimen2 = mouse_study.groupby(\"Drug Regimen\")\\\n",
    "                                        [\"Tumor Volume (mm3)\"].agg(\\\n",
    "                                        [\"count\",\"mean\",\"median\",\"var\",\\\n",
    "                                         \"std\",\"sem\"])\n",
    "summary_drug_regimen2\n",
    "\n",
    "# This method produces everything in a single groupby function\n"
   ]
  },
  {
   "cell_type": "markdown",
   "metadata": {},
   "source": [
    "## Bar and Pie Charts"
   ]
  },
  {
   "cell_type": "code",
   "execution_count": 10,
   "metadata": {},
   "outputs": [
    {
     "data": {
      "text/plain": [
       "Text(0.5, 1.0, 'Mice Count Across Drug Regimens')"
      ]
     },
     "execution_count": 10,
     "metadata": {},
     "output_type": "execute_result"
    },
    {
     "data": {
      "image/png": "[encoded data removed]",
      "text/plain": [
       "<Figure size 504x504 with 1 Axes>"
      ]
     },
     "metadata": {
      "needs_background": "light"
     },
     "output_type": "display_data"
    }
   ],
   "source": [
    "# Generate a bar plot showing the total number of mice for each treatment throughout the course of the study using pandas. \n",
    "ID_regimen = pd.DataFrame(mouse_study.groupby(\"Drug Regimen\")[\"Mouse ID\"].nunique())\n",
    "fig1 = ID_regimen.plot(kind=\"bar\",alpha=0.5,color=\"green\",edgecolor=\"black\",\\\n",
    "                     figsize=(7,7),width=0.8,rot=45,legend=False)\n",
    "fig1.set_xlabel(\"Drug Regimen\", fontweight=\"bold\")\n",
    "fig1.set_ylabel(\"Number of Mice\", fontweight=\"bold\")\n",
    "fig1.set_title(\"Mice Count Across Drug Regimens\", fontweight=\"bold\")\n"
   ]
  },
  {
   "cell_type": "code",
   "execution_count": 11,
   "metadata": {},
   "outputs": [
    {
     "data": {
      "image/png": "[encoded data removed]",
      "text/plain": [
       "<Figure size 504x504 with 1 Axes>"
      ]
     },
     "metadata": {
      "needs_background": "light"
     },
     "output_type": "display_data"
    }
   ],
   "source": [
    "# Generate a bar plot showing the total number of mice for each treatment throughout the course of the study using pyplot.\n",
    "plt.figure(figsize=(7,7))\n",
    "plt.bar(ID_regimen.index,ID_regimen[\"Mouse ID\"],alpha=0.5,color=\"green\",\\\n",
    "        width=0.8,edgecolor=\"black\")\n",
    "plt.xlabel(\"Drug Regimen\", fontweight=\"bold\")\n",
    "plt.xticks(rotation=45)\n",
    "plt.ylabel(\"Number of Mice\", fontweight=\"bold\")\n",
    "plt.title(\"Mice Count Across Drug Regimens\", fontweight=\"bold\")\n",
    "plt.show()"
   ]
  },
  {
   "cell_type": "code",
   "execution_count": 12,
   "metadata": {},
   "outputs": [
    {
     "data": {
      "text/plain": [
       "Text(0, 0.5, '')"
      ]
     },
     "execution_count": 12,
     "metadata": {},
     "output_type": "execute_result"
    },
    {
     "data": {
      "image/png": "[encoded data removed]",
      "text/plain": [
       "<Figure size 432x288 with 1 Axes>"
      ]
     },
     "metadata": {},
     "output_type": "display_data"
    }
   ],
   "source": [
    "# Generate a pie plot showing the distribution of female versus male mice using pandas\n",
    "ID_sex = mouse_study.groupby(\"Sex\")[\"Mouse ID\"].nunique()\n",
    "fig2 = ID_sex.plot(kind=\"pie\",explode=(0.1,0),colors=[\"orange\",\"lightgreen\"],\\\n",
    "                 wedgeprops={\"edgecolor\":\"black\"},labels=ID_sex.index,\\\n",
    "                 startangle=45,autopct=\"%1.1f%%\")\n",
    "fig2.set_title(\"Gender Distribution of Mice\", fontweight=\"bold\")\n",
    "fig2.set_ylabel(\"\")"
   ]
  },
  {
   "cell_type": "code",
   "execution_count": 13,
   "metadata": {},
   "outputs": [
    {
     "data": {
      "image/png": "[encoded data removed]",
      "text/plain": [
       "<Figure size 432x288 with 1 Axes>"
      ]
     },
     "metadata": {},
     "output_type": "display_data"
    }
   ],
   "source": [
    "# Generate a pie plot showing the distribution of female versus male mice using pyplot\n",
    "plt.pie(ID_sex,explode=(0.1,0),colors=[\"orange\",\"lightgreen\"],\\\n",
    "        wedgeprops={\"edgecolor\":\"black\"},labels=ID_sex.index,startangle=45,autopct=\"%1.1f%%\")\n",
    "plt.title(\"Gender Distribution of Mice\", fontweight=\"bold\")\n",
    "plt.show()"
   ]
  },
  {
   "cell_type": "markdown",
   "metadata": {},
   "source": [
    "## Quartiles, Outliers and Boxplots"
   ]
  },
  {
   "cell_type": "code",
   "execution_count": 14,
   "metadata": {},
   "outputs": [
    {
     "data": {
      "text/html": [
       "<div>\n",
       "<style scoped>\n",
       "    .dataframe tbody tr th:only-of-type {\n",
       "        vertical-align: middle;\n",
       "    }\n",
       "\n",
       "    .dataframe tbody tr th {\n",
       "        vertical-align: top;\n",
       "    }\n",
       "\n",
       "    .dataframe thead th {\n",
       "        text-align: right;\n",
       "    }\n",
       "</style>\n",
       "<table border=\"1\" class=\"dataframe\">\n",
       "  <thead>\n",
       "    <tr style=\"text-align: right;\">\n",
       "      <th></th>\n",
       "      <th>Drug Regimen</th>\n",
       "      <th>Mouse ID</th>\n",
       "      <th>Timepoint</th>\n",
       "      <th>Sex</th>\n",
       "      <th>Age_months</th>\n",
       "      <th>Weight (g)</th>\n",
       "      <th>Tumor Volume (mm3)</th>\n",
       "      <th>Metastatic Sites</th>\n",
       "      <th>ID_timepoint</th>\n",
       "    </tr>\n",
       "  </thead>\n",
       "  <tbody>\n",
       "    <tr>\n",
       "      <th>0</th>\n",
       "      <td>Capomulin</td>\n",
       "      <td>b128</td>\n",
       "      <td>45</td>\n",
       "      <td>Female</td>\n",
       "      <td>9</td>\n",
       "      <td>22</td>\n",
       "      <td>38.982878</td>\n",
       "      <td>2</td>\n",
       "      <td>b128_45</td>\n",
       "    </tr>\n",
       "    <tr>\n",
       "      <th>1</th>\n",
       "      <td>Capomulin</td>\n",
       "      <td>b742</td>\n",
       "      <td>45</td>\n",
       "      <td>Male</td>\n",
       "      <td>7</td>\n",
       "      <td>21</td>\n",
       "      <td>38.939633</td>\n",
       "      <td>0</td>\n",
       "      <td>b742_45</td>\n",
       "    </tr>\n",
       "    <tr>\n",
       "      <th>2</th>\n",
       "      <td>Capomulin</td>\n",
       "      <td>f966</td>\n",
       "      <td>20</td>\n",
       "      <td>Male</td>\n",
       "      <td>16</td>\n",
       "      <td>17</td>\n",
       "      <td>30.485985</td>\n",
       "      <td>0</td>\n",
       "      <td>f966_20</td>\n",
       "    </tr>\n",
       "    <tr>\n",
       "      <th>3</th>\n",
       "      <td>Capomulin</td>\n",
       "      <td>g288</td>\n",
       "      <td>45</td>\n",
       "      <td>Male</td>\n",
       "      <td>3</td>\n",
       "      <td>19</td>\n",
       "      <td>37.074024</td>\n",
       "      <td>1</td>\n",
       "      <td>g288_45</td>\n",
       "    </tr>\n",
       "    <tr>\n",
       "      <th>4</th>\n",
       "      <td>Capomulin</td>\n",
       "      <td>g316</td>\n",
       "      <td>45</td>\n",
       "      <td>Female</td>\n",
       "      <td>22</td>\n",
       "      <td>22</td>\n",
       "      <td>40.159220</td>\n",
       "      <td>2</td>\n",
       "      <td>g316_45</td>\n",
       "    </tr>\n",
       "  </tbody>\n",
       "</table>\n",
       "</div>"
      ],
      "text/plain": [
       "  Drug Regimen Mouse ID  Timepoint     Sex  Age_months  Weight (g)  \\\n",
       "0    Capomulin     b128         45  Female           9          22   \n",
       "1    Capomulin     b742         45    Male           7          21   \n",
       "2    Capomulin     f966         20    Male          16          17   \n",
       "3    Capomulin     g288         45    Male           3          19   \n",
       "4    Capomulin     g316         45  Female          22          22   \n",
       "\n",
       "   Tumor Volume (mm3)  Metastatic Sites ID_timepoint  \n",
       "0           38.982878                 2      b128_45  \n",
       "1           38.939633                 0      b742_45  \n",
       "2           30.485985                 0      f966_20  \n",
       "3           37.074024                 1      g288_45  \n",
       "4           40.159220                 2      g316_45  "
      ]
     },
     "execution_count": 14,
     "metadata": {},
     "output_type": "execute_result"
    }
   ],
   "source": [
    "# Calculate the final tumor volume of each mouse across four of the treatment regimens:  \n",
    "# Capomulin, Ramicane, Infubinol, and Ceftamin\n",
    "mouse_study_final = mouse_study[(mouse_study[\"Drug Regimen\"]==\"Capomulin\")|\\\n",
    "                              (mouse_study[\"Drug Regimen\"]==\"Ramicane\")|\\\n",
    "                              (mouse_study[\"Drug Regimen\"]==\"Infubinol\")|\\\n",
    "                              (mouse_study[\"Drug Regimen\"]==\"Ceftamin\")]\n",
    "\n",
    "# Start by getting the last (greatest) timepoint for each mouse\n",
    "mouse_final_timepoint = pd.DataFrame(mouse_study_final.groupby([\"Drug Regimen\",\"Mouse ID\"])\\\n",
    "                                   [\"Timepoint\"].max())\n",
    "\n",
    "# Merge this group df with the original dataframe to get the tumor volume at the last timepoint\n",
    "mouse_final_timepoint = pd.merge(mouse_final_timepoint,mouse_study_final,\\\n",
    "                               on=[\"Drug Regimen\",\"Mouse ID\",\"Timepoint\"],how=\"left\")\n",
    "mouse_final_timepoint.head()"
   ]
  },
  {
   "cell_type": "code",
   "execution_count": 15,
   "metadata": {},
   "outputs": [
    {
     "name": "stdout",
     "output_type": "stream",
     "text": [
      "Tumor volume 36.32 is an outlier in the Infubinol treatment group.\n"
     ]
    },
    {
     "data": {
      "text/html": [
       "<div>\n",
       "<style scoped>\n",
       "    .dataframe tbody tr th:only-of-type {\n",
       "        vertical-align: middle;\n",
       "    }\n",
       "\n",
       "    .dataframe tbody tr th {\n",
       "        vertical-align: top;\n",
       "    }\n",
       "\n",
       "    .dataframe thead th {\n",
       "        text-align: right;\n",
       "    }\n",
       "</style>\n",
       "<table border=\"1\" class=\"dataframe\">\n",
       "  <thead>\n",
       "    <tr style=\"text-align: right;\">\n",
       "      <th></th>\n",
       "      <th>1st quartile</th>\n",
       "      <th>2nd quartile</th>\n",
       "      <th>3rd quartile</th>\n",
       "      <th>interquartile range (IQR)</th>\n",
       "      <th>lower bound</th>\n",
       "      <th>upper bound</th>\n",
       "    </tr>\n",
       "    <tr>\n",
       "      <th>Drug Regimen</th>\n",
       "      <th></th>\n",
       "      <th></th>\n",
       "      <th></th>\n",
       "      <th></th>\n",
       "      <th></th>\n",
       "      <th></th>\n",
       "    </tr>\n",
       "  </thead>\n",
       "  <tbody>\n",
       "    <tr>\n",
       "      <th>Capomulin</th>\n",
       "      <td>32.377357</td>\n",
       "      <td>38.125164</td>\n",
       "      <td>40.159220</td>\n",
       "      <td>7.781863</td>\n",
       "      <td>20.704562</td>\n",
       "      <td>51.832015</td>\n",
       "    </tr>\n",
       "    <tr>\n",
       "      <th>Ceftamin</th>\n",
       "      <td>48.722078</td>\n",
       "      <td>59.851956</td>\n",
       "      <td>64.299830</td>\n",
       "      <td>15.577752</td>\n",
       "      <td>25.355450</td>\n",
       "      <td>87.666458</td>\n",
       "    </tr>\n",
       "    <tr>\n",
       "      <th>Infubinol</th>\n",
       "      <td>54.048608</td>\n",
       "      <td>60.165180</td>\n",
       "      <td>65.525743</td>\n",
       "      <td>11.477135</td>\n",
       "      <td>36.832905</td>\n",
       "      <td>82.741446</td>\n",
       "    </tr>\n",
       "    <tr>\n",
       "      <th>Ramicane</th>\n",
       "      <td>31.560470</td>\n",
       "      <td>36.561652</td>\n",
       "      <td>40.659006</td>\n",
       "      <td>9.098537</td>\n",
       "      <td>17.912664</td>\n",
       "      <td>54.306811</td>\n",
       "    </tr>\n",
       "  </tbody>\n",
       "</table>\n",
       "</div>"
      ],
      "text/plain": [
       "              1st quartile  2nd quartile  3rd quartile  \\\n",
       "Drug Regimen                                             \n",
       "Capomulin        32.377357     38.125164     40.159220   \n",
       "Ceftamin         48.722078     59.851956     64.299830   \n",
       "Infubinol        54.048608     60.165180     65.525743   \n",
       "Ramicane         31.560470     36.561652     40.659006   \n",
       "\n",
       "              interquartile range (IQR)  lower bound  upper bound  \n",
       "Drug Regimen                                                       \n",
       "Capomulin                      7.781863    20.704562    51.832015  \n",
       "Ceftamin                      15.577752    25.355450    87.666458  \n",
       "Infubinol                     11.477135    36.832905    82.741446  \n",
       "Ramicane                       9.098537    17.912664    54.306811  "
      ]
     },
     "execution_count": 15,
     "metadata": {},
     "output_type": "execute_result"
    }
   ],
   "source": [
    "# Put treatments into a list for for loop (and later for plot labels)\n",
    "treatment = [\"Capomulin\",\"Ramicane\",\"Infubinol\",\"Ceftamin\"]\n",
    "\n",
    "# Create empty list to fill with tumor vol data (for plotting)\n",
    "tumor_vol = [[],[],[],[]]\n",
    "\n",
    "# Calculate the IQR and quantitatively determine if there are any potential outliers. \n",
    "mouse_quart1 = mouse_final_timepoint.groupby(\"Drug Regimen\")[\"Tumor Volume (mm3)\"].quantile(.25)\n",
    "mouse_quart2 = mouse_final_timepoint.groupby(\"Drug Regimen\")[\"Tumor Volume (mm3)\"].quantile(.50)\n",
    "mouse_quart3 = mouse_final_timepoint.groupby(\"Drug Regimen\")[\"Tumor Volume (mm3)\"].quantile(.75)\n",
    "mouse_iqr = mouse_quart3-mouse_quart1\n",
    "lower_bound = mouse_quart1 - (1.5*mouse_iqr)\n",
    "upper_bound = mouse_quart3 + (1.5*mouse_iqr)\n",
    "quartile_df = pd.concat([mouse_quart1,mouse_quart2,mouse_quart3,mouse_iqr,\\\n",
    "                       lower_bound,upper_bound],axis=1)\n",
    "quartile_df.columns = [\"1st quartile\",\"2nd quartile\",\"3rd quartile\",\\\n",
    "                       \"interquartile range (IQR)\",\"lower bound\",\"upper bound\"]\n",
    "\n",
    "for i in mouse_final_timepoint.index:\n",
    "    # Locate the rows which contain mice on each drug and get the tumor volumes\n",
    "    curr_tumor_vol = mouse_final_timepoint.loc[i,\"Tumor Volume (mm3)\"]\n",
    "    # add subset \n",
    "    for j in range(0,4):\n",
    "        if mouse_final_timepoint.loc[i,\"Drug Regimen\"]==treatment[j]:\n",
    "            tumor_vol[j].append(curr_tumor_vol)\n",
    "    # Determine outliers using upper and lower bounds\n",
    "            curr_lower_bound=lower_bound[lower_bound.index==treatment[j]].values.tolist()\n",
    "            curr_upper_bound=upper_bound[upper_bound.index==treatment[j]].values.tolist()\n",
    "            if (curr_tumor_vol < curr_lower_bound) | (curr_tumor_vol > curr_upper_bound):\n",
    "                print(f\"Tumor volume {round(curr_tumor_vol,2)} is an outlier in the {treatment[j]} treatment group.\")\n",
    "\n",
    "quartile_df.head()"
   ]
  },
  {
   "cell_type": "code",
   "execution_count": 16,
   "metadata": {},
   "outputs": [
    {
     "data": {
      "image/png": "[encoded data removed]",
      "text/plain": [
       "<Figure size 504x360 with 1 Axes>"
      ]
     },
     "metadata": {
      "needs_background": "light"
     },
     "output_type": "display_data"
    }
   ],
   "source": [
    "# Generate a box plot of the final tumor volume of each mouse across four regimens of interest\n",
    "plt.figure(figsize=(7,5))\n",
    "plt.boxplot(tumor_vol,labels=treatment,notch=True,patch_artist=True,\\\n",
    "            boxprops=dict(facecolor=\"lightgreen\", color=\"black\"),\\\n",
    "            flierprops=dict(marker='x',markersize=7, markeredgecolor=\"red\"),\\\n",
    "            medianprops=dict(color=\"black\"))\n",
    "plt.title(\"Box Plot of Tumor Volume in Mice across Drug Regimens\", fontweight=\"bold\")\n",
    "plt.xlabel(\"Drug Regimen\", fontweight=\"bold\")\n",
    "plt.ylabel(\"Tumor Volume (mm3)\", fontweight=\"bold\")\n",
    "plt.show()"
   ]
  },
  {
   "cell_type": "markdown",
   "metadata": {},
   "source": [
    "## Line and Scatter Plots"
   ]
  },
  {
   "cell_type": "code",
   "execution_count": 22,
   "metadata": {},
   "outputs": [
    {
     "data": {
      "text/plain": [
       "<function matplotlib.pyplot.show(*args, **kw)>"
      ]
     },
     "execution_count": 22,
     "metadata": {},
     "output_type": "execute_result"
    },
    {
     "data": {
      "image/png": "[encoded data removed]",
      "text/plain": [
       "<Figure size 504x504 with 1 Axes>"
      ]
     },
     "metadata": {
      "needs_background": "light"
     },
     "output_type": "display_data"
    }
   ],
   "source": [
    "# Generate a line plot of time point versus tumor volume for a mouse treated with Capomulin\n",
    "for i in mouse_study_final.index:\n",
    "    if mouse_study_final.loc[i,\"Drug Regimen\"]==\"Capomulin\":\n",
    "        select_mouse = mouse_study_final.loc[i,\"Mouse ID\"]\n",
    "        break\n",
    "select_mouse_df = mouse_study_final[mouse_study_final[\"Mouse ID\"]==select_mouse]\n",
    "select_mouse_df\n",
    "plt.figure(figsize=(7,7))\n",
    "plt.plot(select_mouse_df[\"Timepoint\"],select_mouse_df[\"Tumor Volume (mm3)\"],\\\n",
    "         color=\"green\",marker=\"o\")\n",
    "plt.title(f\"Line Plot of Mouse {select_mouse} Tumor Volume in Time\",fontweight=\"bold\")\n",
    "plt.xlabel(\"Days\",fontweight=\"bold\")\n",
    "plt.ylabel(\"Tumor Volume (mm3)\",fontweight=\"bold\")\n",
    "plt.xlim(0,select_mouse_df[\"Timepoint\"].max()+1)\n",
    "plt.show"
   ]
  },
  {
   "cell_type": "code",
   "execution_count": 18,
   "metadata": {},
   "outputs": [
    {
     "data": {
      "text/plain": [
       "Text(0, 0.5, 'Tumor Volume (mm3)')"
      ]
     },
     "execution_count": 18,
     "metadata": {},
     "output_type": "execute_result"
    },
    {
     "data": {
      "image/png": "[encoded data removed]",
      "text/plain": [
       "<Figure size 432x288 with 1 Axes>"
      ]
     },
     "metadata": {
      "needs_background": "light"
     },
     "output_type": "display_data"
    }
   ],
   "source": [
    "# Generate a scatter plot of mouse weight versus average tumor volume for the Capomulin regimen\n",
    "# Assuming that 'average tumor volume' means the average volume by weight, so grouping mouse data by weight to get the mean vol\n",
    "mouse_study_capomulin = mouse_study[(mouse_study[\"Drug Regimen\"]==\"Capomulin\")]\n",
    "avgtumor_weight = pd.DataFrame(mouse_study_capomulin.groupby(\"Weight (g)\")[\"Tumor Volume (mm3)\"].mean())\n",
    "plt.scatter(avgtumor_weight.index,avgtumor_weight[\"Tumor Volume (mm3)\"])\n",
    "plt.title(\"Scatter Plot of Mouse Weight versus Average Tumor Volume\",fontweight=\"bold\")\n",
    "plt.xlabel(\"Mouse Weight (g)\",fontweight=\"bold\")\n",
    "plt.ylabel(\"Tumor Volume (mm3)\",fontweight=\"bold\")"
   ]
  },
  {
   "cell_type": "markdown",
   "metadata": {},
   "source": [
    "## Correlation and Regression"
   ]
  },
  {
   "cell_type": "code",
   "execution_count": 19,
   "metadata": {},
   "outputs": [
    {
     "name": "stdout",
     "output_type": "stream",
     "text": [
      "The correlation coefficient between mouse weight and average tumor volume is 0.95\n",
      "The linear regression model is: y = 22.76 + 0.89x,\n",
      "where y = average tumor volume, and x = mouse weight\n"
     ]
    }
   ],
   "source": [
    "# Calculate the correlation coefficient and linear regression model \n",
    "# for mouse weight and average tumor volume for the Capomulin regimen\n",
    "(slope,intercept,rval,pval,stderror)=sts.linregress(avgtumor_weight.index,avgtumor_weight[\"Tumor Volume (mm3)\"])\n",
    "print(f\"The correlation coefficient between mouse weight and average tumor volume is {round(rval,2)}\")\n",
    "print(f\"The linear regression model is: y = {round(intercept,2)} + {round(slope,2)}x,\\nwhere y = average tumor volume, and x = mouse weight\")\n"
   ]
  },
  {
   "cell_type": "code",
   "execution_count": 20,
   "metadata": {},
   "outputs": [
    {
     "data": {
      "text/plain": [
       "[<matplotlib.lines.Line2D at 0x1a1e37fc50>]"
      ]
     },
     "execution_count": 20,
     "metadata": {},
     "output_type": "execute_result"
    },
    {
     "data": {
      "image/png": "[encoded data removed]",
      "text/plain": [
       "<Figure size 432x288 with 1 Axes>"
      ]
     },
     "metadata": {
      "needs_background": "light"
     },
     "output_type": "display_data"
    }
   ],
   "source": [
    "# plot scatter plot of mouse weight vs. average tumor volume and linear regression line\n",
    "pred_y=intercept+slope*avgtumor_weight.index\n",
    "plt.scatter(avgtumor_weight.index,avgtumor_weight[\"Tumor Volume (mm3)\"])\n",
    "plt.title(\"Scatter Plot of Mouse Weight versus Average Tumor Volume\",fontweight=\"bold\")\n",
    "plt.xlabel(\"Mouse Weight (g)\",fontweight=\"bold\")\n",
    "plt.ylabel(\"Tumor Volume (mm3)\",fontweight=\"bold\")\n",
    "plt.annotate(f\"y = {round(intercept,2)} + {round(slope,2)}x\\ncorrelation coefficient (r) = {round(rval,2)}\",(20,38))\n",
    "plt.plot(avgtumor_weight.index,pred_y)"
   ]
  }
 ],
 "metadata": {
  "anaconda-cloud": {},
  "kernelspec": {
   "display_name": "Python 3",
   "language": "python",
   "name": "python3"
  },
  "language_info": {
   "codemirror_mode": {
    "name": "ipython",
    "version": 3
   },
   "file_extension": ".py",
   "mimetype": "text/x-python",
   "name": "python",
   "nbconvert_exporter": "python",
   "pygments_lexer": "ipython3",
   "version": "3.7.6"
  }
 },
 "nbformat": 4,
 "nbformat_minor": 2
}
